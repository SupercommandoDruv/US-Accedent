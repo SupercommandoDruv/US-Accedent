{
 "cells": [
  {
   "cell_type": "code",
   "execution_count": 1,
   "id": "26ffad0b",
   "metadata": {},
   "outputs": [],
   "source": [
    "import numpy as np\n",
    "import pandas as pd\n",
    "import matplotlib.pyplot as plt\n",
    "import seaborn as sns"
   ]
  },
  {
   "cell_type": "code",
   "execution_count": 2,
   "id": "23340478",
   "metadata": {},
   "outputs": [],
   "source": [
    "df=pd.read_csv(r'E:\\marsian\\US_Accedent\\US_Accidents.csv')"
   ]
  },
  {
   "cell_type": "code",
   "execution_count": 3,
   "id": "e3e991aa",
   "metadata": {},
   "outputs": [
    {
     "name": "stdout",
     "output_type": "stream",
     "text": [
      "<class 'pandas.core.frame.DataFrame'>\n",
      "RangeIndex: 2845342 entries, 0 to 2845341\n",
      "Data columns (total 47 columns):\n",
      " #   Column                 Dtype  \n",
      "---  ------                 -----  \n",
      " 0   ID                     object \n",
      " 1   Severity               int64  \n",
      " 2   Start_Time             object \n",
      " 3   End_Time               object \n",
      " 4   Start_Lat              float64\n",
      " 5   Start_Lng              float64\n",
      " 6   End_Lat                float64\n",
      " 7   End_Lng                float64\n",
      " 8   Distance(mi)           float64\n",
      " 9   Description            object \n",
      " 10  Number                 float64\n",
      " 11  Street                 object \n",
      " 12  Side                   object \n",
      " 13  City                   object \n",
      " 14  County                 object \n",
      " 15  State                  object \n",
      " 16  Zipcode                object \n",
      " 17  Country                object \n",
      " 18  Timezone               object \n",
      " 19  Airport_Code           object \n",
      " 20  Weather_Timestamp      object \n",
      " 21  Temperature(F)         float64\n",
      " 22  Wind_Chill(F)          float64\n",
      " 23  Humidity(%)            float64\n",
      " 24  Pressure(in)           float64\n",
      " 25  Visibility(mi)         float64\n",
      " 26  Wind_Direction         object \n",
      " 27  Wind_Speed(mph)        float64\n",
      " 28  Precipitation(in)      float64\n",
      " 29  Weather_Condition      object \n",
      " 30  Amenity                bool   \n",
      " 31  Bump                   bool   \n",
      " 32  Crossing               bool   \n",
      " 33  Give_Way               bool   \n",
      " 34  Junction               bool   \n",
      " 35  No_Exit                bool   \n",
      " 36  Railway                bool   \n",
      " 37  Roundabout             bool   \n",
      " 38  Station                bool   \n",
      " 39  Stop                   bool   \n",
      " 40  Traffic_Calming        bool   \n",
      " 41  Traffic_Signal         bool   \n",
      " 42  Turning_Loop           bool   \n",
      " 43  Sunrise_Sunset         object \n",
      " 44  Civil_Twilight         object \n",
      " 45  Nautical_Twilight      object \n",
      " 46  Astronomical_Twilight  object \n",
      "dtypes: bool(13), float64(13), int64(1), object(20)\n",
      "memory usage: 773.4+ MB\n"
     ]
    }
   ],
   "source": [
    "#df.columns\n",
    "df.head()\n",
    "df.info()"
   ]
  },
  {
   "cell_type": "code",
   "execution_count": 4,
   "id": "159378e1",
   "metadata": {},
   "outputs": [],
   "source": [
    "dff=df[['City', 'County', 'State','Temperature(F)','Weather_Condition','Start_Time', 'End_Time', 'Start_Lat','Start_Lng','Traffic_Calming', 'Traffic_Signal',]]"
   ]
  },
  {
   "cell_type": "code",
   "execution_count": 5,
   "id": "13c0164f",
   "metadata": {},
   "outputs": [
    {
     "data": {
      "text/html": [
       "<div>\n",
       "<style scoped>\n",
       "    .dataframe tbody tr th:only-of-type {\n",
       "        vertical-align: middle;\n",
       "    }\n",
       "\n",
       "    .dataframe tbody tr th {\n",
       "        vertical-align: top;\n",
       "    }\n",
       "\n",
       "    .dataframe thead th {\n",
       "        text-align: right;\n",
       "    }\n",
       "</style>\n",
       "<table border=\"1\" class=\"dataframe\">\n",
       "  <thead>\n",
       "    <tr style=\"text-align: right;\">\n",
       "      <th></th>\n",
       "      <th>City</th>\n",
       "      <th>County</th>\n",
       "      <th>State</th>\n",
       "      <th>Temperature(F)</th>\n",
       "      <th>Weather_Condition</th>\n",
       "      <th>Start_Time</th>\n",
       "      <th>End_Time</th>\n",
       "      <th>Start_Lat</th>\n",
       "      <th>Start_Lng</th>\n",
       "      <th>Traffic_Calming</th>\n",
       "      <th>Traffic_Signal</th>\n",
       "    </tr>\n",
       "  </thead>\n",
       "  <tbody>\n",
       "    <tr>\n",
       "      <th>0</th>\n",
       "      <td>Dublin</td>\n",
       "      <td>Franklin</td>\n",
       "      <td>OH</td>\n",
       "      <td>42.1</td>\n",
       "      <td>Light Rain</td>\n",
       "      <td>2016-02-08 00:37:08</td>\n",
       "      <td>2016-02-08 06:37:08</td>\n",
       "      <td>40.108910</td>\n",
       "      <td>-83.092860</td>\n",
       "      <td>False</td>\n",
       "      <td>False</td>\n",
       "    </tr>\n",
       "    <tr>\n",
       "      <th>1</th>\n",
       "      <td>Dayton</td>\n",
       "      <td>Montgomery</td>\n",
       "      <td>OH</td>\n",
       "      <td>36.9</td>\n",
       "      <td>Light Rain</td>\n",
       "      <td>2016-02-08 05:56:20</td>\n",
       "      <td>2016-02-08 11:56:20</td>\n",
       "      <td>39.865420</td>\n",
       "      <td>-84.062800</td>\n",
       "      <td>False</td>\n",
       "      <td>False</td>\n",
       "    </tr>\n",
       "    <tr>\n",
       "      <th>2</th>\n",
       "      <td>Cincinnati</td>\n",
       "      <td>Hamilton</td>\n",
       "      <td>OH</td>\n",
       "      <td>36.0</td>\n",
       "      <td>Overcast</td>\n",
       "      <td>2016-02-08 06:15:39</td>\n",
       "      <td>2016-02-08 12:15:39</td>\n",
       "      <td>39.102660</td>\n",
       "      <td>-84.524680</td>\n",
       "      <td>False</td>\n",
       "      <td>False</td>\n",
       "    </tr>\n",
       "    <tr>\n",
       "      <th>3</th>\n",
       "      <td>Akron</td>\n",
       "      <td>Summit</td>\n",
       "      <td>OH</td>\n",
       "      <td>39.0</td>\n",
       "      <td>Overcast</td>\n",
       "      <td>2016-02-08 06:51:45</td>\n",
       "      <td>2016-02-08 12:51:45</td>\n",
       "      <td>41.062130</td>\n",
       "      <td>-81.537840</td>\n",
       "      <td>False</td>\n",
       "      <td>False</td>\n",
       "    </tr>\n",
       "    <tr>\n",
       "      <th>4</th>\n",
       "      <td>Cincinnati</td>\n",
       "      <td>Hamilton</td>\n",
       "      <td>OH</td>\n",
       "      <td>37.0</td>\n",
       "      <td>Light Rain</td>\n",
       "      <td>2016-02-08 07:53:43</td>\n",
       "      <td>2016-02-08 13:53:43</td>\n",
       "      <td>39.172393</td>\n",
       "      <td>-84.492792</td>\n",
       "      <td>False</td>\n",
       "      <td>False</td>\n",
       "    </tr>\n",
       "    <tr>\n",
       "      <th>...</th>\n",
       "      <td>...</td>\n",
       "      <td>...</td>\n",
       "      <td>...</td>\n",
       "      <td>...</td>\n",
       "      <td>...</td>\n",
       "      <td>...</td>\n",
       "      <td>...</td>\n",
       "      <td>...</td>\n",
       "      <td>...</td>\n",
       "      <td>...</td>\n",
       "      <td>...</td>\n",
       "    </tr>\n",
       "    <tr>\n",
       "      <th>2845337</th>\n",
       "      <td>Riverside</td>\n",
       "      <td>Riverside</td>\n",
       "      <td>CA</td>\n",
       "      <td>86.0</td>\n",
       "      <td>Fair</td>\n",
       "      <td>2019-08-23 18:03:25</td>\n",
       "      <td>2019-08-23 18:32:01</td>\n",
       "      <td>34.002480</td>\n",
       "      <td>-117.379360</td>\n",
       "      <td>False</td>\n",
       "      <td>False</td>\n",
       "    </tr>\n",
       "    <tr>\n",
       "      <th>2845338</th>\n",
       "      <td>San Diego</td>\n",
       "      <td>San Diego</td>\n",
       "      <td>CA</td>\n",
       "      <td>70.0</td>\n",
       "      <td>Fair</td>\n",
       "      <td>2019-08-23 19:11:30</td>\n",
       "      <td>2019-08-23 19:38:23</td>\n",
       "      <td>32.766960</td>\n",
       "      <td>-117.148060</td>\n",
       "      <td>False</td>\n",
       "      <td>False</td>\n",
       "    </tr>\n",
       "    <tr>\n",
       "      <th>2845339</th>\n",
       "      <td>Orange</td>\n",
       "      <td>Orange</td>\n",
       "      <td>CA</td>\n",
       "      <td>73.0</td>\n",
       "      <td>Partly Cloudy</td>\n",
       "      <td>2019-08-23 19:00:21</td>\n",
       "      <td>2019-08-23 19:28:49</td>\n",
       "      <td>33.775450</td>\n",
       "      <td>-117.847790</td>\n",
       "      <td>False</td>\n",
       "      <td>False</td>\n",
       "    </tr>\n",
       "    <tr>\n",
       "      <th>2845340</th>\n",
       "      <td>Culver City</td>\n",
       "      <td>Los Angeles</td>\n",
       "      <td>CA</td>\n",
       "      <td>71.0</td>\n",
       "      <td>Fair</td>\n",
       "      <td>2019-08-23 19:00:21</td>\n",
       "      <td>2019-08-23 19:29:42</td>\n",
       "      <td>33.992460</td>\n",
       "      <td>-118.403020</td>\n",
       "      <td>False</td>\n",
       "      <td>False</td>\n",
       "    </tr>\n",
       "    <tr>\n",
       "      <th>2845341</th>\n",
       "      <td>Highland</td>\n",
       "      <td>San Bernardino</td>\n",
       "      <td>CA</td>\n",
       "      <td>79.0</td>\n",
       "      <td>Fair</td>\n",
       "      <td>2019-08-23 18:52:06</td>\n",
       "      <td>2019-08-23 19:21:31</td>\n",
       "      <td>34.133930</td>\n",
       "      <td>-117.230920</td>\n",
       "      <td>False</td>\n",
       "      <td>False</td>\n",
       "    </tr>\n",
       "  </tbody>\n",
       "</table>\n",
       "<p>2845342 rows × 11 columns</p>\n",
       "</div>"
      ],
      "text/plain": [
       "                City          County State  Temperature(F) Weather_Condition  \\\n",
       "0             Dublin        Franklin    OH            42.1        Light Rain   \n",
       "1             Dayton      Montgomery    OH            36.9        Light Rain   \n",
       "2         Cincinnati        Hamilton    OH            36.0          Overcast   \n",
       "3              Akron          Summit    OH            39.0          Overcast   \n",
       "4         Cincinnati        Hamilton    OH            37.0        Light Rain   \n",
       "...              ...             ...   ...             ...               ...   \n",
       "2845337    Riverside       Riverside    CA            86.0              Fair   \n",
       "2845338    San Diego       San Diego    CA            70.0              Fair   \n",
       "2845339       Orange          Orange    CA            73.0     Partly Cloudy   \n",
       "2845340  Culver City     Los Angeles    CA            71.0              Fair   \n",
       "2845341     Highland  San Bernardino    CA            79.0              Fair   \n",
       "\n",
       "                  Start_Time             End_Time  Start_Lat   Start_Lng  \\\n",
       "0        2016-02-08 00:37:08  2016-02-08 06:37:08  40.108910  -83.092860   \n",
       "1        2016-02-08 05:56:20  2016-02-08 11:56:20  39.865420  -84.062800   \n",
       "2        2016-02-08 06:15:39  2016-02-08 12:15:39  39.102660  -84.524680   \n",
       "3        2016-02-08 06:51:45  2016-02-08 12:51:45  41.062130  -81.537840   \n",
       "4        2016-02-08 07:53:43  2016-02-08 13:53:43  39.172393  -84.492792   \n",
       "...                      ...                  ...        ...         ...   \n",
       "2845337  2019-08-23 18:03:25  2019-08-23 18:32:01  34.002480 -117.379360   \n",
       "2845338  2019-08-23 19:11:30  2019-08-23 19:38:23  32.766960 -117.148060   \n",
       "2845339  2019-08-23 19:00:21  2019-08-23 19:28:49  33.775450 -117.847790   \n",
       "2845340  2019-08-23 19:00:21  2019-08-23 19:29:42  33.992460 -118.403020   \n",
       "2845341  2019-08-23 18:52:06  2019-08-23 19:21:31  34.133930 -117.230920   \n",
       "\n",
       "         Traffic_Calming  Traffic_Signal  \n",
       "0                  False           False  \n",
       "1                  False           False  \n",
       "2                  False           False  \n",
       "3                  False           False  \n",
       "4                  False           False  \n",
       "...                  ...             ...  \n",
       "2845337            False           False  \n",
       "2845338            False           False  \n",
       "2845339            False           False  \n",
       "2845340            False           False  \n",
       "2845341            False           False  \n",
       "\n",
       "[2845342 rows x 11 columns]"
      ]
     },
     "execution_count": 5,
     "metadata": {},
     "output_type": "execute_result"
    }
   ],
   "source": [
    "dff"
   ]
  },
  {
   "cell_type": "code",
   "execution_count": 6,
   "id": "dbd13228",
   "metadata": {},
   "outputs": [
    {
     "data": {
      "text/plain": [
       "City                   137\n",
       "County                   0\n",
       "State                    0\n",
       "Temperature(F)       69274\n",
       "Weather_Condition    70636\n",
       "Start_Time               0\n",
       "End_Time                 0\n",
       "Start_Lat                0\n",
       "Start_Lng                0\n",
       "Traffic_Calming          0\n",
       "Traffic_Signal           0\n",
       "dtype: int64"
      ]
     },
     "execution_count": 6,
     "metadata": {},
     "output_type": "execute_result"
    }
   ],
   "source": [
    "dff.isnull().sum()"
   ]
  },
  {
   "cell_type": "code",
   "execution_count": 7,
   "id": "edaacc19",
   "metadata": {},
   "outputs": [
    {
     "name": "stderr",
     "output_type": "stream",
     "text": [
      "C:\\Users\\k\\Anaconda3\\lib\\site-packages\\pandas\\util\\_decorators.py:311: SettingWithCopyWarning: \n",
      "A value is trying to be set on a copy of a slice from a DataFrame\n",
      "\n",
      "See the caveats in the documentation: https://pandas.pydata.org/pandas-docs/stable/user_guide/indexing.html#returning-a-view-versus-a-copy\n",
      "  return func(*args, **kwargs)\n"
     ]
    }
   ],
   "source": [
    "dff.dropna(inplace=True)"
   ]
  },
  {
   "cell_type": "code",
   "execution_count": 8,
   "id": "979dcf5f",
   "metadata": {},
   "outputs": [
    {
     "data": {
      "text/plain": [
       "City                 0\n",
       "County               0\n",
       "State                0\n",
       "Temperature(F)       0\n",
       "Weather_Condition    0\n",
       "Start_Time           0\n",
       "End_Time             0\n",
       "Start_Lat            0\n",
       "Start_Lng            0\n",
       "Traffic_Calming      0\n",
       "Traffic_Signal       0\n",
       "dtype: int64"
      ]
     },
     "execution_count": 8,
     "metadata": {},
     "output_type": "execute_result"
    }
   ],
   "source": [
    "dff.isnull().sum()"
   ]
  },
  {
   "cell_type": "code",
   "execution_count": 9,
   "id": "e350e0b4",
   "metadata": {},
   "outputs": [
    {
     "data": {
      "text/plain": [
       "22103"
      ]
     },
     "execution_count": 9,
     "metadata": {},
     "output_type": "execute_result"
    }
   ],
   "source": [
    "dff.duplicated().sum()"
   ]
  },
  {
   "cell_type": "code",
   "execution_count": 10,
   "id": "3b03f0af",
   "metadata": {},
   "outputs": [],
   "source": [
    "dff.drop_duplicates(inplace=True)"
   ]
  },
  {
   "cell_type": "code",
   "execution_count": 11,
   "id": "3af24ac4",
   "metadata": {},
   "outputs": [
    {
     "data": {
      "text/plain": [
       "0"
      ]
     },
     "execution_count": 11,
     "metadata": {},
     "output_type": "execute_result"
    }
   ],
   "source": [
    "dff.duplicated().sum()"
   ]
  },
  {
   "cell_type": "code",
   "execution_count": 12,
   "id": "e085fb4f",
   "metadata": {},
   "outputs": [
    {
     "data": {
      "text/html": [
       "<div>\n",
       "<style scoped>\n",
       "    .dataframe tbody tr th:only-of-type {\n",
       "        vertical-align: middle;\n",
       "    }\n",
       "\n",
       "    .dataframe tbody tr th {\n",
       "        vertical-align: top;\n",
       "    }\n",
       "\n",
       "    .dataframe thead th {\n",
       "        text-align: right;\n",
       "    }\n",
       "</style>\n",
       "<table border=\"1\" class=\"dataframe\">\n",
       "  <thead>\n",
       "    <tr style=\"text-align: right;\">\n",
       "      <th></th>\n",
       "      <th>City</th>\n",
       "      <th>County</th>\n",
       "      <th>State</th>\n",
       "      <th>Temperature(F)</th>\n",
       "      <th>Weather_Condition</th>\n",
       "      <th>Start_Time</th>\n",
       "      <th>End_Time</th>\n",
       "      <th>Start_Lat</th>\n",
       "      <th>Start_Lng</th>\n",
       "      <th>Traffic_Calming</th>\n",
       "      <th>Traffic_Signal</th>\n",
       "    </tr>\n",
       "  </thead>\n",
       "  <tbody>\n",
       "    <tr>\n",
       "      <th>0</th>\n",
       "      <td>Dublin</td>\n",
       "      <td>Franklin</td>\n",
       "      <td>OH</td>\n",
       "      <td>42.1</td>\n",
       "      <td>Light Rain</td>\n",
       "      <td>2016-02-08 00:37:08</td>\n",
       "      <td>2016-02-08 06:37:08</td>\n",
       "      <td>40.108910</td>\n",
       "      <td>-83.092860</td>\n",
       "      <td>False</td>\n",
       "      <td>False</td>\n",
       "    </tr>\n",
       "    <tr>\n",
       "      <th>1</th>\n",
       "      <td>Dayton</td>\n",
       "      <td>Montgomery</td>\n",
       "      <td>OH</td>\n",
       "      <td>36.9</td>\n",
       "      <td>Light Rain</td>\n",
       "      <td>2016-02-08 05:56:20</td>\n",
       "      <td>2016-02-08 11:56:20</td>\n",
       "      <td>39.865420</td>\n",
       "      <td>-84.062800</td>\n",
       "      <td>False</td>\n",
       "      <td>False</td>\n",
       "    </tr>\n",
       "    <tr>\n",
       "      <th>2</th>\n",
       "      <td>Cincinnati</td>\n",
       "      <td>Hamilton</td>\n",
       "      <td>OH</td>\n",
       "      <td>36.0</td>\n",
       "      <td>Overcast</td>\n",
       "      <td>2016-02-08 06:15:39</td>\n",
       "      <td>2016-02-08 12:15:39</td>\n",
       "      <td>39.102660</td>\n",
       "      <td>-84.524680</td>\n",
       "      <td>False</td>\n",
       "      <td>False</td>\n",
       "    </tr>\n",
       "    <tr>\n",
       "      <th>3</th>\n",
       "      <td>Akron</td>\n",
       "      <td>Summit</td>\n",
       "      <td>OH</td>\n",
       "      <td>39.0</td>\n",
       "      <td>Overcast</td>\n",
       "      <td>2016-02-08 06:51:45</td>\n",
       "      <td>2016-02-08 12:51:45</td>\n",
       "      <td>41.062130</td>\n",
       "      <td>-81.537840</td>\n",
       "      <td>False</td>\n",
       "      <td>False</td>\n",
       "    </tr>\n",
       "    <tr>\n",
       "      <th>4</th>\n",
       "      <td>Cincinnati</td>\n",
       "      <td>Hamilton</td>\n",
       "      <td>OH</td>\n",
       "      <td>37.0</td>\n",
       "      <td>Light Rain</td>\n",
       "      <td>2016-02-08 07:53:43</td>\n",
       "      <td>2016-02-08 13:53:43</td>\n",
       "      <td>39.172393</td>\n",
       "      <td>-84.492792</td>\n",
       "      <td>False</td>\n",
       "      <td>False</td>\n",
       "    </tr>\n",
       "    <tr>\n",
       "      <th>...</th>\n",
       "      <td>...</td>\n",
       "      <td>...</td>\n",
       "      <td>...</td>\n",
       "      <td>...</td>\n",
       "      <td>...</td>\n",
       "      <td>...</td>\n",
       "      <td>...</td>\n",
       "      <td>...</td>\n",
       "      <td>...</td>\n",
       "      <td>...</td>\n",
       "      <td>...</td>\n",
       "    </tr>\n",
       "    <tr>\n",
       "      <th>2845337</th>\n",
       "      <td>Riverside</td>\n",
       "      <td>Riverside</td>\n",
       "      <td>CA</td>\n",
       "      <td>86.0</td>\n",
       "      <td>Fair</td>\n",
       "      <td>2019-08-23 18:03:25</td>\n",
       "      <td>2019-08-23 18:32:01</td>\n",
       "      <td>34.002480</td>\n",
       "      <td>-117.379360</td>\n",
       "      <td>False</td>\n",
       "      <td>False</td>\n",
       "    </tr>\n",
       "    <tr>\n",
       "      <th>2845338</th>\n",
       "      <td>San Diego</td>\n",
       "      <td>San Diego</td>\n",
       "      <td>CA</td>\n",
       "      <td>70.0</td>\n",
       "      <td>Fair</td>\n",
       "      <td>2019-08-23 19:11:30</td>\n",
       "      <td>2019-08-23 19:38:23</td>\n",
       "      <td>32.766960</td>\n",
       "      <td>-117.148060</td>\n",
       "      <td>False</td>\n",
       "      <td>False</td>\n",
       "    </tr>\n",
       "    <tr>\n",
       "      <th>2845339</th>\n",
       "      <td>Orange</td>\n",
       "      <td>Orange</td>\n",
       "      <td>CA</td>\n",
       "      <td>73.0</td>\n",
       "      <td>Partly Cloudy</td>\n",
       "      <td>2019-08-23 19:00:21</td>\n",
       "      <td>2019-08-23 19:28:49</td>\n",
       "      <td>33.775450</td>\n",
       "      <td>-117.847790</td>\n",
       "      <td>False</td>\n",
       "      <td>False</td>\n",
       "    </tr>\n",
       "    <tr>\n",
       "      <th>2845340</th>\n",
       "      <td>Culver City</td>\n",
       "      <td>Los Angeles</td>\n",
       "      <td>CA</td>\n",
       "      <td>71.0</td>\n",
       "      <td>Fair</td>\n",
       "      <td>2019-08-23 19:00:21</td>\n",
       "      <td>2019-08-23 19:29:42</td>\n",
       "      <td>33.992460</td>\n",
       "      <td>-118.403020</td>\n",
       "      <td>False</td>\n",
       "      <td>False</td>\n",
       "    </tr>\n",
       "    <tr>\n",
       "      <th>2845341</th>\n",
       "      <td>Highland</td>\n",
       "      <td>San Bernardino</td>\n",
       "      <td>CA</td>\n",
       "      <td>79.0</td>\n",
       "      <td>Fair</td>\n",
       "      <td>2019-08-23 18:52:06</td>\n",
       "      <td>2019-08-23 19:21:31</td>\n",
       "      <td>34.133930</td>\n",
       "      <td>-117.230920</td>\n",
       "      <td>False</td>\n",
       "      <td>False</td>\n",
       "    </tr>\n",
       "  </tbody>\n",
       "</table>\n",
       "<p>2741060 rows × 11 columns</p>\n",
       "</div>"
      ],
      "text/plain": [
       "                City          County State  Temperature(F) Weather_Condition  \\\n",
       "0             Dublin        Franklin    OH            42.1        Light Rain   \n",
       "1             Dayton      Montgomery    OH            36.9        Light Rain   \n",
       "2         Cincinnati        Hamilton    OH            36.0          Overcast   \n",
       "3              Akron          Summit    OH            39.0          Overcast   \n",
       "4         Cincinnati        Hamilton    OH            37.0        Light Rain   \n",
       "...              ...             ...   ...             ...               ...   \n",
       "2845337    Riverside       Riverside    CA            86.0              Fair   \n",
       "2845338    San Diego       San Diego    CA            70.0              Fair   \n",
       "2845339       Orange          Orange    CA            73.0     Partly Cloudy   \n",
       "2845340  Culver City     Los Angeles    CA            71.0              Fair   \n",
       "2845341     Highland  San Bernardino    CA            79.0              Fair   \n",
       "\n",
       "                  Start_Time             End_Time  Start_Lat   Start_Lng  \\\n",
       "0        2016-02-08 00:37:08  2016-02-08 06:37:08  40.108910  -83.092860   \n",
       "1        2016-02-08 05:56:20  2016-02-08 11:56:20  39.865420  -84.062800   \n",
       "2        2016-02-08 06:15:39  2016-02-08 12:15:39  39.102660  -84.524680   \n",
       "3        2016-02-08 06:51:45  2016-02-08 12:51:45  41.062130  -81.537840   \n",
       "4        2016-02-08 07:53:43  2016-02-08 13:53:43  39.172393  -84.492792   \n",
       "...                      ...                  ...        ...         ...   \n",
       "2845337  2019-08-23 18:03:25  2019-08-23 18:32:01  34.002480 -117.379360   \n",
       "2845338  2019-08-23 19:11:30  2019-08-23 19:38:23  32.766960 -117.148060   \n",
       "2845339  2019-08-23 19:00:21  2019-08-23 19:28:49  33.775450 -117.847790   \n",
       "2845340  2019-08-23 19:00:21  2019-08-23 19:29:42  33.992460 -118.403020   \n",
       "2845341  2019-08-23 18:52:06  2019-08-23 19:21:31  34.133930 -117.230920   \n",
       "\n",
       "         Traffic_Calming  Traffic_Signal  \n",
       "0                  False           False  \n",
       "1                  False           False  \n",
       "2                  False           False  \n",
       "3                  False           False  \n",
       "4                  False           False  \n",
       "...                  ...             ...  \n",
       "2845337            False           False  \n",
       "2845338            False           False  \n",
       "2845339            False           False  \n",
       "2845340            False           False  \n",
       "2845341            False           False  \n",
       "\n",
       "[2741060 rows x 11 columns]"
      ]
     },
     "execution_count": 12,
     "metadata": {},
     "output_type": "execute_result"
    }
   ],
   "source": [
    "dff"
   ]
  },
  {
   "cell_type": "code",
   "execution_count": 13,
   "id": "f1474882",
   "metadata": {},
   "outputs": [
    {
     "data": {
      "text/plain": [
       "3.665007580811024"
      ]
     },
     "execution_count": 13,
     "metadata": {},
     "output_type": "execute_result"
    }
   ],
   "source": [
    "#-->Percent of missing value per column 3.66% data having error\n",
    "(2845342-2741060)*100/2845342\n",
    "#3.665007580811024"
   ]
  },
  {
   "cell_type": "code",
   "execution_count": 14,
   "id": "2a309f35",
   "metadata": {},
   "outputs": [
    {
     "data": {
      "text/plain": [
       "City          City        \n",
       "Miami         Miami           105225\n",
       "Los Angeles   Los Angeles      68105\n",
       "Orlando       Orlando          54087\n",
       "Dallas        Dallas           41673\n",
       "Houston       Houston          39060\n",
       "Charlotte     Charlotte        32757\n",
       "Sacramento    Sacramento       32345\n",
       "San Diego     San Diego        26234\n",
       "Raleigh       Raleigh          22668\n",
       "Minneapolis   Minneapolis      22532\n",
       "Portland      Portland         20703\n",
       "Nashville     Nashville        20137\n",
       "Baton Rouge   Baton Rouge      17998\n",
       "Austin        Austin           17350\n",
       "Phoenix       Phoenix          16963\n",
       "Saint Paul    Saint Paul       16516\n",
       "New Orleans   New Orleans      15559\n",
       "Atlanta       Atlanta          15406\n",
       "Jacksonville  Jacksonville     14820\n",
       "Richmond      Richmond         13810\n",
       "Name: City, dtype: int64"
      ]
     },
     "execution_count": 14,
     "metadata": {},
     "output_type": "execute_result"
    }
   ],
   "source": [
    "dff.groupby('City')['City'].value_counts().nlargest(20)"
   ]
  },
  {
   "cell_type": "code",
   "execution_count": 15,
   "id": "7589ae99",
   "metadata": {},
   "outputs": [
    {
     "data": {
      "text/plain": [
       "<AxesSubplot:xlabel='City,City'>"
      ]
     },
     "execution_count": 15,
     "metadata": {},
     "output_type": "execute_result"
    },
    {
     "data": {
      "image/png": "[encoded data removed]",
      "text/plain": [
       "<Figure size 432x288 with 1 Axes>"
      ]
     },
     "metadata": {
      "needs_background": "light"
     },
     "output_type": "display_data"
    }
   ],
   "source": [
    "#--> Plot bat chart for 20 cities(sort according to accendents)\n",
    "dff.groupby('City')['City'].value_counts().nlargest(20).plot(kind='line')"
   ]
  },
  {
   "cell_type": "code",
   "execution_count": 16,
   "id": "630b040b",
   "metadata": {},
   "outputs": [
    {
     "data": {
      "image/png": "[encoded data removed]",
      "text/plain": [
       "<Figure size 432x288 with 1 Axes>"
      ]
     },
     "metadata": {
      "needs_background": "light"
     },
     "output_type": "display_data"
    }
   ],
   "source": [
    "#-->plot a histogram for cities by accent \n",
    "x=dff['City'].head(20000)\n",
    "plt.hist(x)\n",
    "plt.show()"
   ]
  },
  {
   "cell_type": "code",
   "execution_count": 17,
   "id": "ccfd1dd6",
   "metadata": {},
   "outputs": [],
   "source": [
    "import datetime as dt\n",
    "df.Start_Time=pd.to_datetime(df.Start_Time)\n",
    "Acc_year=df.Start_Time.dt.month.value_counts()#.sort_values(ascending=False)"
   ]
  },
  {
   "cell_type": "code",
   "execution_count": 18,
   "id": "332b900e",
   "metadata": {},
   "outputs": [
    {
     "data": {
      "text/plain": [
       "Start_Time           End_Time             Start_Time         \n",
       "2021-11-21 18:37:51  2021-11-22 08:00:00  2021-11-21 18:37:51    75\n",
       "2017-05-15 09:22:55  2017-05-15 15:22:55  2017-05-15 09:22:55    58\n",
       "2019-10-26 08:45:17  2019-10-26 09:14:51  2019-10-26 08:45:17    46\n",
       "2021-12-21 15:16:00  2021-12-21 16:31:14  2021-12-21 15:16:00    25\n",
       "2017-05-17 16:44:54  2017-05-17 22:44:54  2017-05-17 16:44:54    18\n",
       "Name: Start_Time, dtype: int64"
      ]
     },
     "execution_count": 18,
     "metadata": {},
     "output_type": "execute_result"
    }
   ],
   "source": [
    "#-->time between which highest number of accedent occour\n",
    "dff.groupby(['Start_Time','End_Time'])['Start_Time'].value_counts().nlargest()\n",
    "#2021-11-22 08:00:00  2021-11-21 18:37:51    75"
   ]
  },
  {
   "cell_type": "code",
   "execution_count": 19,
   "id": "7f1387e3",
   "metadata": {},
   "outputs": [
    {
     "data": {
      "text/plain": [
       "Index(['City', 'County', 'State', 'Temperature(F)', 'Weather_Condition',\n",
       "       'Start_Time', 'End_Time', 'Start_Lat', 'Start_Lng', 'Traffic_Calming',\n",
       "       'Traffic_Signal'],\n",
       "      dtype='object')"
      ]
     },
     "execution_count": 19,
     "metadata": {},
     "output_type": "execute_result"
    }
   ],
   "source": [
    "dff.columns"
   ]
  },
  {
   "cell_type": "code",
   "execution_count": 20,
   "id": "a22b4ca6",
   "metadata": {},
   "outputs": [
    {
     "name": "stderr",
     "output_type": "stream",
     "text": [
      "C:\\Users\\k\\AppData\\Local\\Temp/ipykernel_6668/3148545778.py:2: SettingWithCopyWarning: \n",
      "A value is trying to be set on a copy of a slice from a DataFrame.\n",
      "Try using .loc[row_indexer,col_indexer] = value instead\n",
      "\n",
      "See the caveats in the documentation: https://pandas.pydata.org/pandas-docs/stable/user_guide/indexing.html#returning-a-view-versus-a-copy\n",
      "  dff['Start_Time'] = pd.to_datetime(df['Start_Time']).dt.normalize()\n"
     ]
    }
   ],
   "source": [
    "#Normalizing Data\n",
    "dff['Start_Time'] = pd.to_datetime(df['Start_Time']).dt.normalize()\n",
    "#dff['End_Time'] = pd.to_datetime(df['End_Time']).dt.normalize()"
   ]
  },
  {
   "cell_type": "code",
   "execution_count": 21,
   "id": "5a0e8936",
   "metadata": {},
   "outputs": [
    {
     "data": {
      "text/html": [
       "<div>\n",
       "<style scoped>\n",
       "    .dataframe tbody tr th:only-of-type {\n",
       "        vertical-align: middle;\n",
       "    }\n",
       "\n",
       "    .dataframe tbody tr th {\n",
       "        vertical-align: top;\n",
       "    }\n",
       "\n",
       "    .dataframe thead th {\n",
       "        text-align: right;\n",
       "    }\n",
       "</style>\n",
       "<table border=\"1\" class=\"dataframe\">\n",
       "  <thead>\n",
       "    <tr style=\"text-align: right;\">\n",
       "      <th></th>\n",
       "      <th>City</th>\n",
       "      <th>County</th>\n",
       "      <th>State</th>\n",
       "      <th>Temperature(F)</th>\n",
       "      <th>Weather_Condition</th>\n",
       "      <th>Start_Time</th>\n",
       "      <th>End_Time</th>\n",
       "      <th>Start_Lat</th>\n",
       "      <th>Start_Lng</th>\n",
       "      <th>Traffic_Calming</th>\n",
       "      <th>Traffic_Signal</th>\n",
       "    </tr>\n",
       "  </thead>\n",
       "  <tbody>\n",
       "    <tr>\n",
       "      <th>0</th>\n",
       "      <td>Dublin</td>\n",
       "      <td>Franklin</td>\n",
       "      <td>OH</td>\n",
       "      <td>42.1</td>\n",
       "      <td>Light Rain</td>\n",
       "      <td>2016-02-08</td>\n",
       "      <td>2016-02-08 06:37:08</td>\n",
       "      <td>40.108910</td>\n",
       "      <td>-83.092860</td>\n",
       "      <td>False</td>\n",
       "      <td>False</td>\n",
       "    </tr>\n",
       "    <tr>\n",
       "      <th>1</th>\n",
       "      <td>Dayton</td>\n",
       "      <td>Montgomery</td>\n",
       "      <td>OH</td>\n",
       "      <td>36.9</td>\n",
       "      <td>Light Rain</td>\n",
       "      <td>2016-02-08</td>\n",
       "      <td>2016-02-08 11:56:20</td>\n",
       "      <td>39.865420</td>\n",
       "      <td>-84.062800</td>\n",
       "      <td>False</td>\n",
       "      <td>False</td>\n",
       "    </tr>\n",
       "    <tr>\n",
       "      <th>2</th>\n",
       "      <td>Cincinnati</td>\n",
       "      <td>Hamilton</td>\n",
       "      <td>OH</td>\n",
       "      <td>36.0</td>\n",
       "      <td>Overcast</td>\n",
       "      <td>2016-02-08</td>\n",
       "      <td>2016-02-08 12:15:39</td>\n",
       "      <td>39.102660</td>\n",
       "      <td>-84.524680</td>\n",
       "      <td>False</td>\n",
       "      <td>False</td>\n",
       "    </tr>\n",
       "    <tr>\n",
       "      <th>3</th>\n",
       "      <td>Akron</td>\n",
       "      <td>Summit</td>\n",
       "      <td>OH</td>\n",
       "      <td>39.0</td>\n",
       "      <td>Overcast</td>\n",
       "      <td>2016-02-08</td>\n",
       "      <td>2016-02-08 12:51:45</td>\n",
       "      <td>41.062130</td>\n",
       "      <td>-81.537840</td>\n",
       "      <td>False</td>\n",
       "      <td>False</td>\n",
       "    </tr>\n",
       "    <tr>\n",
       "      <th>4</th>\n",
       "      <td>Cincinnati</td>\n",
       "      <td>Hamilton</td>\n",
       "      <td>OH</td>\n",
       "      <td>37.0</td>\n",
       "      <td>Light Rain</td>\n",
       "      <td>2016-02-08</td>\n",
       "      <td>2016-02-08 13:53:43</td>\n",
       "      <td>39.172393</td>\n",
       "      <td>-84.492792</td>\n",
       "      <td>False</td>\n",
       "      <td>False</td>\n",
       "    </tr>\n",
       "    <tr>\n",
       "      <th>...</th>\n",
       "      <td>...</td>\n",
       "      <td>...</td>\n",
       "      <td>...</td>\n",
       "      <td>...</td>\n",
       "      <td>...</td>\n",
       "      <td>...</td>\n",
       "      <td>...</td>\n",
       "      <td>...</td>\n",
       "      <td>...</td>\n",
       "      <td>...</td>\n",
       "      <td>...</td>\n",
       "    </tr>\n",
       "    <tr>\n",
       "      <th>2845337</th>\n",
       "      <td>Riverside</td>\n",
       "      <td>Riverside</td>\n",
       "      <td>CA</td>\n",
       "      <td>86.0</td>\n",
       "      <td>Fair</td>\n",
       "      <td>2019-08-23</td>\n",
       "      <td>2019-08-23 18:32:01</td>\n",
       "      <td>34.002480</td>\n",
       "      <td>-117.379360</td>\n",
       "      <td>False</td>\n",
       "      <td>False</td>\n",
       "    </tr>\n",
       "    <tr>\n",
       "      <th>2845338</th>\n",
       "      <td>San Diego</td>\n",
       "      <td>San Diego</td>\n",
       "      <td>CA</td>\n",
       "      <td>70.0</td>\n",
       "      <td>Fair</td>\n",
       "      <td>2019-08-23</td>\n",
       "      <td>2019-08-23 19:38:23</td>\n",
       "      <td>32.766960</td>\n",
       "      <td>-117.148060</td>\n",
       "      <td>False</td>\n",
       "      <td>False</td>\n",
       "    </tr>\n",
       "    <tr>\n",
       "      <th>2845339</th>\n",
       "      <td>Orange</td>\n",
       "      <td>Orange</td>\n",
       "      <td>CA</td>\n",
       "      <td>73.0</td>\n",
       "      <td>Partly Cloudy</td>\n",
       "      <td>2019-08-23</td>\n",
       "      <td>2019-08-23 19:28:49</td>\n",
       "      <td>33.775450</td>\n",
       "      <td>-117.847790</td>\n",
       "      <td>False</td>\n",
       "      <td>False</td>\n",
       "    </tr>\n",
       "    <tr>\n",
       "      <th>2845340</th>\n",
       "      <td>Culver City</td>\n",
       "      <td>Los Angeles</td>\n",
       "      <td>CA</td>\n",
       "      <td>71.0</td>\n",
       "      <td>Fair</td>\n",
       "      <td>2019-08-23</td>\n",
       "      <td>2019-08-23 19:29:42</td>\n",
       "      <td>33.992460</td>\n",
       "      <td>-118.403020</td>\n",
       "      <td>False</td>\n",
       "      <td>False</td>\n",
       "    </tr>\n",
       "    <tr>\n",
       "      <th>2845341</th>\n",
       "      <td>Highland</td>\n",
       "      <td>San Bernardino</td>\n",
       "      <td>CA</td>\n",
       "      <td>79.0</td>\n",
       "      <td>Fair</td>\n",
       "      <td>2019-08-23</td>\n",
       "      <td>2019-08-23 19:21:31</td>\n",
       "      <td>34.133930</td>\n",
       "      <td>-117.230920</td>\n",
       "      <td>False</td>\n",
       "      <td>False</td>\n",
       "    </tr>\n",
       "  </tbody>\n",
       "</table>\n",
       "<p>2741060 rows × 11 columns</p>\n",
       "</div>"
      ],
      "text/plain": [
       "                City          County State  Temperature(F) Weather_Condition  \\\n",
       "0             Dublin        Franklin    OH            42.1        Light Rain   \n",
       "1             Dayton      Montgomery    OH            36.9        Light Rain   \n",
       "2         Cincinnati        Hamilton    OH            36.0          Overcast   \n",
       "3              Akron          Summit    OH            39.0          Overcast   \n",
       "4         Cincinnati        Hamilton    OH            37.0        Light Rain   \n",
       "...              ...             ...   ...             ...               ...   \n",
       "2845337    Riverside       Riverside    CA            86.0              Fair   \n",
       "2845338    San Diego       San Diego    CA            70.0              Fair   \n",
       "2845339       Orange          Orange    CA            73.0     Partly Cloudy   \n",
       "2845340  Culver City     Los Angeles    CA            71.0              Fair   \n",
       "2845341     Highland  San Bernardino    CA            79.0              Fair   \n",
       "\n",
       "        Start_Time             End_Time  Start_Lat   Start_Lng  \\\n",
       "0       2016-02-08  2016-02-08 06:37:08  40.108910  -83.092860   \n",
       "1       2016-02-08  2016-02-08 11:56:20  39.865420  -84.062800   \n",
       "2       2016-02-08  2016-02-08 12:15:39  39.102660  -84.524680   \n",
       "3       2016-02-08  2016-02-08 12:51:45  41.062130  -81.537840   \n",
       "4       2016-02-08  2016-02-08 13:53:43  39.172393  -84.492792   \n",
       "...            ...                  ...        ...         ...   \n",
       "2845337 2019-08-23  2019-08-23 18:32:01  34.002480 -117.379360   \n",
       "2845338 2019-08-23  2019-08-23 19:38:23  32.766960 -117.148060   \n",
       "2845339 2019-08-23  2019-08-23 19:28:49  33.775450 -117.847790   \n",
       "2845340 2019-08-23  2019-08-23 19:29:42  33.992460 -118.403020   \n",
       "2845341 2019-08-23  2019-08-23 19:21:31  34.133930 -117.230920   \n",
       "\n",
       "         Traffic_Calming  Traffic_Signal  \n",
       "0                  False           False  \n",
       "1                  False           False  \n",
       "2                  False           False  \n",
       "3                  False           False  \n",
       "4                  False           False  \n",
       "...                  ...             ...  \n",
       "2845337            False           False  \n",
       "2845338            False           False  \n",
       "2845339            False           False  \n",
       "2845340            False           False  \n",
       "2845341            False           False  \n",
       "\n",
       "[2741060 rows x 11 columns]"
      ]
     },
     "execution_count": 21,
     "metadata": {},
     "output_type": "execute_result"
    }
   ],
   "source": [
    "dff"
   ]
  },
  {
   "cell_type": "code",
   "execution_count": 22,
   "id": "190d0301",
   "metadata": {},
   "outputs": [
    {
     "name": "stderr",
     "output_type": "stream",
     "text": [
      "C:\\Users\\k\\AppData\\Local\\Temp/ipykernel_6668/2896082831.py:1: SettingWithCopyWarning: \n",
      "A value is trying to be set on a copy of a slice from a DataFrame.\n",
      "Try using .loc[row_indexer,col_indexer] = value instead\n",
      "\n",
      "See the caveats in the documentation: https://pandas.pydata.org/pandas-docs/stable/user_guide/indexing.html#returning-a-view-versus-a-copy\n",
      "  dff['Year']=dff['Start_Time'].dt.year\n"
     ]
    }
   ],
   "source": [
    "dff['Year']=dff['Start_Time'].dt.year"
   ]
  },
  {
   "cell_type": "code",
   "execution_count": 23,
   "id": "a687ae11",
   "metadata": {},
   "outputs": [
    {
     "data": {
      "text/plain": [
       "Index(['City', 'County', 'State', 'Temperature(F)', 'Weather_Condition',\n",
       "       'Start_Time', 'End_Time', 'Start_Lat', 'Start_Lng', 'Traffic_Calming',\n",
       "       'Traffic_Signal', 'Year'],\n",
       "      dtype='object')"
      ]
     },
     "execution_count": 23,
     "metadata": {},
     "output_type": "execute_result"
    }
   ],
   "source": [
    "dff.columns"
   ]
  },
  {
   "cell_type": "code",
   "execution_count": 24,
   "id": "67105acc",
   "metadata": {},
   "outputs": [
    {
     "name": "stderr",
     "output_type": "stream",
     "text": [
      "C:\\Users\\k\\AppData\\Local\\Temp/ipykernel_6668/1781720465.py:1: SettingWithCopyWarning: \n",
      "A value is trying to be set on a copy of a slice from a DataFrame.\n",
      "Try using .loc[row_indexer,col_indexer] = value instead\n",
      "\n",
      "See the caveats in the documentation: https://pandas.pydata.org/pandas-docs/stable/user_guide/indexing.html#returning-a-view-versus-a-copy\n",
      "  dff['Month']=dff['Start_Time'].dt.month\n"
     ]
    }
   ],
   "source": [
    "dff['Month']=dff['Start_Time'].dt.month"
   ]
  },
  {
   "cell_type": "code",
   "execution_count": 25,
   "id": "0e219620",
   "metadata": {},
   "outputs": [
    {
     "name": "stderr",
     "output_type": "stream",
     "text": [
      "C:\\Users\\k\\AppData\\Local\\Temp/ipykernel_6668/3491925375.py:1: SettingWithCopyWarning: \n",
      "A value is trying to be set on a copy of a slice from a DataFrame.\n",
      "Try using .loc[row_indexer,col_indexer] = value instead\n",
      "\n",
      "See the caveats in the documentation: https://pandas.pydata.org/pandas-docs/stable/user_guide/indexing.html#returning-a-view-versus-a-copy\n",
      "  dff['Day_Name']=dff['Start_Time'].dt.day_name().str[:3]\n"
     ]
    }
   ],
   "source": [
    "dff['Day_Name']=dff['Start_Time'].dt.day_name().str[:3]"
   ]
  },
  {
   "cell_type": "code",
   "execution_count": 26,
   "id": "1e105817",
   "metadata": {},
   "outputs": [
    {
     "data": {
      "text/html": [
       "<div>\n",
       "<style scoped>\n",
       "    .dataframe tbody tr th:only-of-type {\n",
       "        vertical-align: middle;\n",
       "    }\n",
       "\n",
       "    .dataframe tbody tr th {\n",
       "        vertical-align: top;\n",
       "    }\n",
       "\n",
       "    .dataframe thead th {\n",
       "        text-align: right;\n",
       "    }\n",
       "</style>\n",
       "<table border=\"1\" class=\"dataframe\">\n",
       "  <thead>\n",
       "    <tr style=\"text-align: right;\">\n",
       "      <th></th>\n",
       "      <th>City</th>\n",
       "      <th>County</th>\n",
       "      <th>State</th>\n",
       "      <th>Temperature(F)</th>\n",
       "      <th>Weather_Condition</th>\n",
       "      <th>Start_Time</th>\n",
       "      <th>End_Time</th>\n",
       "      <th>Start_Lat</th>\n",
       "      <th>Start_Lng</th>\n",
       "      <th>Traffic_Calming</th>\n",
       "      <th>Traffic_Signal</th>\n",
       "      <th>Year</th>\n",
       "      <th>Month</th>\n",
       "      <th>Day_Name</th>\n",
       "    </tr>\n",
       "  </thead>\n",
       "  <tbody>\n",
       "    <tr>\n",
       "      <th>0</th>\n",
       "      <td>Dublin</td>\n",
       "      <td>Franklin</td>\n",
       "      <td>OH</td>\n",
       "      <td>42.1</td>\n",
       "      <td>Light Rain</td>\n",
       "      <td>2016-02-08</td>\n",
       "      <td>2016-02-08 06:37:08</td>\n",
       "      <td>40.108910</td>\n",
       "      <td>-83.092860</td>\n",
       "      <td>False</td>\n",
       "      <td>False</td>\n",
       "      <td>2016</td>\n",
       "      <td>2</td>\n",
       "      <td>Mon</td>\n",
       "    </tr>\n",
       "    <tr>\n",
       "      <th>1</th>\n",
       "      <td>Dayton</td>\n",
       "      <td>Montgomery</td>\n",
       "      <td>OH</td>\n",
       "      <td>36.9</td>\n",
       "      <td>Light Rain</td>\n",
       "      <td>2016-02-08</td>\n",
       "      <td>2016-02-08 11:56:20</td>\n",
       "      <td>39.865420</td>\n",
       "      <td>-84.062800</td>\n",
       "      <td>False</td>\n",
       "      <td>False</td>\n",
       "      <td>2016</td>\n",
       "      <td>2</td>\n",
       "      <td>Mon</td>\n",
       "    </tr>\n",
       "    <tr>\n",
       "      <th>2</th>\n",
       "      <td>Cincinnati</td>\n",
       "      <td>Hamilton</td>\n",
       "      <td>OH</td>\n",
       "      <td>36.0</td>\n",
       "      <td>Overcast</td>\n",
       "      <td>2016-02-08</td>\n",
       "      <td>2016-02-08 12:15:39</td>\n",
       "      <td>39.102660</td>\n",
       "      <td>-84.524680</td>\n",
       "      <td>False</td>\n",
       "      <td>False</td>\n",
       "      <td>2016</td>\n",
       "      <td>2</td>\n",
       "      <td>Mon</td>\n",
       "    </tr>\n",
       "    <tr>\n",
       "      <th>3</th>\n",
       "      <td>Akron</td>\n",
       "      <td>Summit</td>\n",
       "      <td>OH</td>\n",
       "      <td>39.0</td>\n",
       "      <td>Overcast</td>\n",
       "      <td>2016-02-08</td>\n",
       "      <td>2016-02-08 12:51:45</td>\n",
       "      <td>41.062130</td>\n",
       "      <td>-81.537840</td>\n",
       "      <td>False</td>\n",
       "      <td>False</td>\n",
       "      <td>2016</td>\n",
       "      <td>2</td>\n",
       "      <td>Mon</td>\n",
       "    </tr>\n",
       "    <tr>\n",
       "      <th>4</th>\n",
       "      <td>Cincinnati</td>\n",
       "      <td>Hamilton</td>\n",
       "      <td>OH</td>\n",
       "      <td>37.0</td>\n",
       "      <td>Light Rain</td>\n",
       "      <td>2016-02-08</td>\n",
       "      <td>2016-02-08 13:53:43</td>\n",
       "      <td>39.172393</td>\n",
       "      <td>-84.492792</td>\n",
       "      <td>False</td>\n",
       "      <td>False</td>\n",
       "      <td>2016</td>\n",
       "      <td>2</td>\n",
       "      <td>Mon</td>\n",
       "    </tr>\n",
       "  </tbody>\n",
       "</table>\n",
       "</div>"
      ],
      "text/plain": [
       "         City      County State  Temperature(F) Weather_Condition Start_Time  \\\n",
       "0      Dublin    Franklin    OH            42.1        Light Rain 2016-02-08   \n",
       "1      Dayton  Montgomery    OH            36.9        Light Rain 2016-02-08   \n",
       "2  Cincinnati    Hamilton    OH            36.0          Overcast 2016-02-08   \n",
       "3       Akron      Summit    OH            39.0          Overcast 2016-02-08   \n",
       "4  Cincinnati    Hamilton    OH            37.0        Light Rain 2016-02-08   \n",
       "\n",
       "              End_Time  Start_Lat  Start_Lng  Traffic_Calming  Traffic_Signal  \\\n",
       "0  2016-02-08 06:37:08  40.108910 -83.092860            False           False   \n",
       "1  2016-02-08 11:56:20  39.865420 -84.062800            False           False   \n",
       "2  2016-02-08 12:15:39  39.102660 -84.524680            False           False   \n",
       "3  2016-02-08 12:51:45  41.062130 -81.537840            False           False   \n",
       "4  2016-02-08 13:53:43  39.172393 -84.492792            False           False   \n",
       "\n",
       "   Year  Month Day_Name  \n",
       "0  2016      2      Mon  \n",
       "1  2016      2      Mon  \n",
       "2  2016      2      Mon  \n",
       "3  2016      2      Mon  \n",
       "4  2016      2      Mon  "
      ]
     },
     "execution_count": 26,
     "metadata": {},
     "output_type": "execute_result"
    }
   ],
   "source": [
    "dff.head()"
   ]
  },
  {
   "cell_type": "code",
   "execution_count": 27,
   "id": "f42c14f6",
   "metadata": {},
   "outputs": [
    {
     "data": {
      "text/plain": [
       "<AxesSubplot:xlabel='Year,Year'>"
      ]
     },
     "execution_count": 27,
     "metadata": {},
     "output_type": "execute_result"
    },
    {
     "data": {
      "image/png": "[encoded data removed]",
      "text/plain": [
       "<Figure size 432x288 with 1 Axes>"
      ]
     },
     "metadata": {
      "needs_background": "light"
     },
     "output_type": "display_data"
    }
   ],
   "source": [
    "#-->Distribution of time and accedent \n",
    "#-->What is the trend of accedent year over year (Decreasing/Increasing)\n",
    "dff.groupby('Year')['Year'].value_counts().plot(kind='line')"
   ]
  },
  {
   "cell_type": "code",
   "execution_count": 28,
   "id": "f5f30762",
   "metadata": {},
   "outputs": [
    {
     "data": {
      "text/plain": [
       "<AxesSubplot:xlabel='Month,Month'>"
      ]
     },
     "execution_count": 28,
     "metadata": {},
     "output_type": "execute_result"
    },
    {
     "data": {
      "image/png": "[encoded data removed]",
      "text/plain": [
       "<Figure size 432x288 with 1 Axes>"
      ]
     },
     "metadata": {
      "needs_background": "light"
     },
     "output_type": "display_data"
    }
   ],
   "source": [
    "#-->Month-wise trend of accedent?\n",
    "dff.groupby('Month')['Month'].value_counts().plot(kind='line')"
   ]
  },
  {
   "cell_type": "code",
   "execution_count": 29,
   "id": "b29490d4",
   "metadata": {},
   "outputs": [
    {
     "data": {
      "text/plain": [
       "Month  Month\n",
       "1      1        190213\n",
       "2      2        188030\n",
       "3      3        152539\n",
       "4      4        166073\n",
       "5      5        175698\n",
       "6      6        217763\n",
       "7      7        153203\n",
       "8      8        172211\n",
       "9      9        233192\n",
       "10     10       289423\n",
       "11     11       345459\n",
       "12     12       457256\n",
       "Name: Month, dtype: int64"
      ]
     },
     "execution_count": 29,
     "metadata": {},
     "output_type": "execute_result"
    }
   ],
   "source": [
    "#-->Which month have the most accident ?\n",
    "\n",
    "dff.groupby('Month')['Month'].value_counts()\n",
    "# December we have heigest accedent \n",
    "#12       457256"
   ]
  },
  {
   "cell_type": "code",
   "execution_count": 30,
   "id": "520af1fc",
   "metadata": {},
   "outputs": [
    {
     "data": {
      "text/plain": [
       "<AxesSubplot:xlabel='Day_Name,Day_Name'>"
      ]
     },
     "execution_count": 30,
     "metadata": {},
     "output_type": "execute_result"
    },
    {
     "data": {
      "image/png": "[encoded data removed]",
      "text/plain": [
       "<Figure size 432x288 with 1 Axes>"
      ]
     },
     "metadata": {
      "needs_background": "light"
     },
     "output_type": "display_data"
    }
   ],
   "source": [
    "#-->Which days of the the week have the most accedent?\n",
    "dff.groupby('Day_Name')['Day_Name'].value_counts().plot(kind='line')\n",
    "#Friday"
   ]
  },
  {
   "cell_type": "code",
   "execution_count": 31,
   "id": "ddcb9a60",
   "metadata": {},
   "outputs": [],
   "source": [
    "#import datetime as dt\n",
    "#df.Start_Time=pd.to_datetime(df.Start_Time)\n",
    "Acc_month=df.Start_Time.dt.month.value_counts().sort_values(ascending=False)"
   ]
  },
  {
   "cell_type": "code",
   "execution_count": 32,
   "id": "c2234214",
   "metadata": {},
   "outputs": [
    {
     "data": {
      "text/plain": [
       "12    473943\n",
       "11    360696\n",
       "10    299131\n",
       "9     241822\n",
       "6     226561\n",
       "1     198365\n",
       "2     194995\n",
       "5     181944\n",
       "8     178670\n",
       "4     171880\n",
       "7     159111\n",
       "3     158224\n",
       "Name: Start_Time, dtype: int64"
      ]
     },
     "execution_count": 32,
     "metadata": {},
     "output_type": "execute_result"
    }
   ],
   "source": [
    "Acc_month"
   ]
  },
  {
   "cell_type": "code",
   "execution_count": 33,
   "id": "2a339030",
   "metadata": {},
   "outputs": [],
   "source": [
    "Acc_year=df.Start_Time.dt.year.value_counts().sort_values(ascending=False)"
   ]
  },
  {
   "cell_type": "code",
   "execution_count": 34,
   "id": "e589ec48",
   "metadata": {},
   "outputs": [],
   "source": [
    "Acc_month=df.Start_Time.dt.month.value_counts().sort_values(ascending=False)"
   ]
  },
  {
   "cell_type": "code",
   "execution_count": 35,
   "id": "db9481c1",
   "metadata": {},
   "outputs": [
    {
     "name": "stderr",
     "output_type": "stream",
     "text": [
      "C:\\Users\\k\\AppData\\Local\\Temp/ipykernel_6668/2340888744.py:1: SettingWithCopyWarning: \n",
      "A value is trying to be set on a copy of a slice from a DataFrame.\n",
      "Try using .loc[row_indexer,col_indexer] = value instead\n",
      "\n",
      "See the caveats in the documentation: https://pandas.pydata.org/pandas-docs/stable/user_guide/indexing.html#returning-a-view-versus-a-copy\n",
      "  dff['Weekday'] = df['Start_Time'].dt.day\n"
     ]
    }
   ],
   "source": [
    "dff['Weekday'] = df['Start_Time'].dt.day"
   ]
  },
  {
   "cell_type": "code",
   "execution_count": 36,
   "id": "926b68fd",
   "metadata": {},
   "outputs": [
    {
     "name": "stderr",
     "output_type": "stream",
     "text": [
      "C:\\Users\\k\\AppData\\Local\\Temp/ipykernel_6668/511077133.py:2: SettingWithCopyWarning: \n",
      "A value is trying to be set on a copy of a slice from a DataFrame.\n",
      "Try using .loc[row_indexer,col_indexer] = value instead\n",
      "\n",
      "See the caveats in the documentation: https://pandas.pydata.org/pandas-docs/stable/user_guide/indexing.html#returning-a-view-versus-a-copy\n",
      "  dff['Month'] = df['Start_Time'].dt.month\n",
      "C:\\Users\\k\\AppData\\Local\\Temp/ipykernel_6668/511077133.py:3: SettingWithCopyWarning: \n",
      "A value is trying to be set on a copy of a slice from a DataFrame.\n",
      "Try using .loc[row_indexer,col_indexer] = value instead\n",
      "\n",
      "See the caveats in the documentation: https://pandas.pydata.org/pandas-docs/stable/user_guide/indexing.html#returning-a-view-versus-a-copy\n",
      "  dff['MonthName'] = df['Start_Time'].dt.month_name().str[:3]\n",
      "C:\\Users\\k\\AppData\\Local\\Temp/ipykernel_6668/511077133.py:6: SettingWithCopyWarning: \n",
      "A value is trying to be set on a copy of a slice from a DataFrame.\n",
      "Try using .loc[row_indexer,col_indexer] = value instead\n",
      "\n",
      "See the caveats in the documentation: https://pandas.pydata.org/pandas-docs/stable/user_guide/indexing.html#returning-a-view-versus-a-copy\n",
      "  dff['WeekdayName'] = df['Start_Time'].dt.day_name().str[:3]\n",
      "C:\\Users\\k\\AppData\\Local\\Temp/ipykernel_6668/511077133.py:7: SettingWithCopyWarning: \n",
      "A value is trying to be set on a copy of a slice from a DataFrame.\n",
      "Try using .loc[row_indexer,col_indexer] = value instead\n",
      "\n",
      "See the caveats in the documentation: https://pandas.pydata.org/pandas-docs/stable/user_guide/indexing.html#returning-a-view-versus-a-copy\n",
      "  dff['Hour'] = df['Start_Time'].dt.hour\n"
     ]
    }
   ],
   "source": [
    "#dff['Year'] = df['Start_Time'].dt.year\n",
    "dff['Month'] = df['Start_Time'].dt.month\n",
    "dff['MonthName'] = df['Start_Time'].dt.month_name().str[:3]\n",
    "#df_accidents['Year_Month'] = df_accidents['Start_Time'].dt.to_period('M')\n",
    "#df_accidents['Weekday'] = df_accidents['Start_Time'].dt.day\n",
    "dff['WeekdayName'] = df['Start_Time'].dt.day_name().str[:3]\n",
    "dff['Hour'] = df['Start_Time'].dt.hour"
   ]
  },
  {
   "cell_type": "code",
   "execution_count": 37,
   "id": "07c5d223",
   "metadata": {},
   "outputs": [
    {
     "data": {
      "text/plain": [
       "Index(['City', 'County', 'State', 'Temperature(F)', 'Weather_Condition',\n",
       "       'Start_Time', 'End_Time', 'Start_Lat', 'Start_Lng', 'Traffic_Calming',\n",
       "       'Traffic_Signal', 'Year', 'Month', 'Day_Name', 'Weekday', 'MonthName',\n",
       "       'WeekdayName', 'Hour'],\n",
       "      dtype='object')"
      ]
     },
     "execution_count": 37,
     "metadata": {},
     "output_type": "execute_result"
    }
   ],
   "source": [
    "dff.columns"
   ]
  },
  {
   "cell_type": "code",
   "execution_count": 38,
   "id": "5e721252",
   "metadata": {},
   "outputs": [
    {
     "data": {
      "text/html": [
       "<div>\n",
       "<style scoped>\n",
       "    .dataframe tbody tr th:only-of-type {\n",
       "        vertical-align: middle;\n",
       "    }\n",
       "\n",
       "    .dataframe tbody tr th {\n",
       "        vertical-align: top;\n",
       "    }\n",
       "\n",
       "    .dataframe thead th {\n",
       "        text-align: right;\n",
       "    }\n",
       "</style>\n",
       "<table border=\"1\" class=\"dataframe\">\n",
       "  <thead>\n",
       "    <tr style=\"text-align: right;\">\n",
       "      <th></th>\n",
       "      <th>City</th>\n",
       "      <th>County</th>\n",
       "      <th>State</th>\n",
       "      <th>Temperature(F)</th>\n",
       "      <th>Weather_Condition</th>\n",
       "      <th>Start_Time</th>\n",
       "      <th>End_Time</th>\n",
       "      <th>Start_Lat</th>\n",
       "      <th>Start_Lng</th>\n",
       "      <th>Traffic_Calming</th>\n",
       "      <th>Traffic_Signal</th>\n",
       "      <th>Year</th>\n",
       "      <th>Month</th>\n",
       "      <th>Day_Name</th>\n",
       "      <th>Weekday</th>\n",
       "      <th>MonthName</th>\n",
       "      <th>WeekdayName</th>\n",
       "      <th>Hour</th>\n",
       "    </tr>\n",
       "  </thead>\n",
       "  <tbody>\n",
       "    <tr>\n",
       "      <th>0</th>\n",
       "      <td>Dublin</td>\n",
       "      <td>Franklin</td>\n",
       "      <td>OH</td>\n",
       "      <td>42.1</td>\n",
       "      <td>Light Rain</td>\n",
       "      <td>2016-02-08</td>\n",
       "      <td>2016-02-08 06:37:08</td>\n",
       "      <td>40.108910</td>\n",
       "      <td>-83.092860</td>\n",
       "      <td>False</td>\n",
       "      <td>False</td>\n",
       "      <td>2016</td>\n",
       "      <td>2</td>\n",
       "      <td>Mon</td>\n",
       "      <td>8</td>\n",
       "      <td>Feb</td>\n",
       "      <td>Mon</td>\n",
       "      <td>0</td>\n",
       "    </tr>\n",
       "    <tr>\n",
       "      <th>1</th>\n",
       "      <td>Dayton</td>\n",
       "      <td>Montgomery</td>\n",
       "      <td>OH</td>\n",
       "      <td>36.9</td>\n",
       "      <td>Light Rain</td>\n",
       "      <td>2016-02-08</td>\n",
       "      <td>2016-02-08 11:56:20</td>\n",
       "      <td>39.865420</td>\n",
       "      <td>-84.062800</td>\n",
       "      <td>False</td>\n",
       "      <td>False</td>\n",
       "      <td>2016</td>\n",
       "      <td>2</td>\n",
       "      <td>Mon</td>\n",
       "      <td>8</td>\n",
       "      <td>Feb</td>\n",
       "      <td>Mon</td>\n",
       "      <td>5</td>\n",
       "    </tr>\n",
       "    <tr>\n",
       "      <th>2</th>\n",
       "      <td>Cincinnati</td>\n",
       "      <td>Hamilton</td>\n",
       "      <td>OH</td>\n",
       "      <td>36.0</td>\n",
       "      <td>Overcast</td>\n",
       "      <td>2016-02-08</td>\n",
       "      <td>2016-02-08 12:15:39</td>\n",
       "      <td>39.102660</td>\n",
       "      <td>-84.524680</td>\n",
       "      <td>False</td>\n",
       "      <td>False</td>\n",
       "      <td>2016</td>\n",
       "      <td>2</td>\n",
       "      <td>Mon</td>\n",
       "      <td>8</td>\n",
       "      <td>Feb</td>\n",
       "      <td>Mon</td>\n",
       "      <td>6</td>\n",
       "    </tr>\n",
       "    <tr>\n",
       "      <th>3</th>\n",
       "      <td>Akron</td>\n",
       "      <td>Summit</td>\n",
       "      <td>OH</td>\n",
       "      <td>39.0</td>\n",
       "      <td>Overcast</td>\n",
       "      <td>2016-02-08</td>\n",
       "      <td>2016-02-08 12:51:45</td>\n",
       "      <td>41.062130</td>\n",
       "      <td>-81.537840</td>\n",
       "      <td>False</td>\n",
       "      <td>False</td>\n",
       "      <td>2016</td>\n",
       "      <td>2</td>\n",
       "      <td>Mon</td>\n",
       "      <td>8</td>\n",
       "      <td>Feb</td>\n",
       "      <td>Mon</td>\n",
       "      <td>6</td>\n",
       "    </tr>\n",
       "    <tr>\n",
       "      <th>4</th>\n",
       "      <td>Cincinnati</td>\n",
       "      <td>Hamilton</td>\n",
       "      <td>OH</td>\n",
       "      <td>37.0</td>\n",
       "      <td>Light Rain</td>\n",
       "      <td>2016-02-08</td>\n",
       "      <td>2016-02-08 13:53:43</td>\n",
       "      <td>39.172393</td>\n",
       "      <td>-84.492792</td>\n",
       "      <td>False</td>\n",
       "      <td>False</td>\n",
       "      <td>2016</td>\n",
       "      <td>2</td>\n",
       "      <td>Mon</td>\n",
       "      <td>8</td>\n",
       "      <td>Feb</td>\n",
       "      <td>Mon</td>\n",
       "      <td>7</td>\n",
       "    </tr>\n",
       "    <tr>\n",
       "      <th>...</th>\n",
       "      <td>...</td>\n",
       "      <td>...</td>\n",
       "      <td>...</td>\n",
       "      <td>...</td>\n",
       "      <td>...</td>\n",
       "      <td>...</td>\n",
       "      <td>...</td>\n",
       "      <td>...</td>\n",
       "      <td>...</td>\n",
       "      <td>...</td>\n",
       "      <td>...</td>\n",
       "      <td>...</td>\n",
       "      <td>...</td>\n",
       "      <td>...</td>\n",
       "      <td>...</td>\n",
       "      <td>...</td>\n",
       "      <td>...</td>\n",
       "      <td>...</td>\n",
       "    </tr>\n",
       "    <tr>\n",
       "      <th>2845337</th>\n",
       "      <td>Riverside</td>\n",
       "      <td>Riverside</td>\n",
       "      <td>CA</td>\n",
       "      <td>86.0</td>\n",
       "      <td>Fair</td>\n",
       "      <td>2019-08-23</td>\n",
       "      <td>2019-08-23 18:32:01</td>\n",
       "      <td>34.002480</td>\n",
       "      <td>-117.379360</td>\n",
       "      <td>False</td>\n",
       "      <td>False</td>\n",
       "      <td>2019</td>\n",
       "      <td>8</td>\n",
       "      <td>Fri</td>\n",
       "      <td>23</td>\n",
       "      <td>Aug</td>\n",
       "      <td>Fri</td>\n",
       "      <td>18</td>\n",
       "    </tr>\n",
       "    <tr>\n",
       "      <th>2845338</th>\n",
       "      <td>San Diego</td>\n",
       "      <td>San Diego</td>\n",
       "      <td>CA</td>\n",
       "      <td>70.0</td>\n",
       "      <td>Fair</td>\n",
       "      <td>2019-08-23</td>\n",
       "      <td>2019-08-23 19:38:23</td>\n",
       "      <td>32.766960</td>\n",
       "      <td>-117.148060</td>\n",
       "      <td>False</td>\n",
       "      <td>False</td>\n",
       "      <td>2019</td>\n",
       "      <td>8</td>\n",
       "      <td>Fri</td>\n",
       "      <td>23</td>\n",
       "      <td>Aug</td>\n",
       "      <td>Fri</td>\n",
       "      <td>19</td>\n",
       "    </tr>\n",
       "    <tr>\n",
       "      <th>2845339</th>\n",
       "      <td>Orange</td>\n",
       "      <td>Orange</td>\n",
       "      <td>CA</td>\n",
       "      <td>73.0</td>\n",
       "      <td>Partly Cloudy</td>\n",
       "      <td>2019-08-23</td>\n",
       "      <td>2019-08-23 19:28:49</td>\n",
       "      <td>33.775450</td>\n",
       "      <td>-117.847790</td>\n",
       "      <td>False</td>\n",
       "      <td>False</td>\n",
       "      <td>2019</td>\n",
       "      <td>8</td>\n",
       "      <td>Fri</td>\n",
       "      <td>23</td>\n",
       "      <td>Aug</td>\n",
       "      <td>Fri</td>\n",
       "      <td>19</td>\n",
       "    </tr>\n",
       "    <tr>\n",
       "      <th>2845340</th>\n",
       "      <td>Culver City</td>\n",
       "      <td>Los Angeles</td>\n",
       "      <td>CA</td>\n",
       "      <td>71.0</td>\n",
       "      <td>Fair</td>\n",
       "      <td>2019-08-23</td>\n",
       "      <td>2019-08-23 19:29:42</td>\n",
       "      <td>33.992460</td>\n",
       "      <td>-118.403020</td>\n",
       "      <td>False</td>\n",
       "      <td>False</td>\n",
       "      <td>2019</td>\n",
       "      <td>8</td>\n",
       "      <td>Fri</td>\n",
       "      <td>23</td>\n",
       "      <td>Aug</td>\n",
       "      <td>Fri</td>\n",
       "      <td>19</td>\n",
       "    </tr>\n",
       "    <tr>\n",
       "      <th>2845341</th>\n",
       "      <td>Highland</td>\n",
       "      <td>San Bernardino</td>\n",
       "      <td>CA</td>\n",
       "      <td>79.0</td>\n",
       "      <td>Fair</td>\n",
       "      <td>2019-08-23</td>\n",
       "      <td>2019-08-23 19:21:31</td>\n",
       "      <td>34.133930</td>\n",
       "      <td>-117.230920</td>\n",
       "      <td>False</td>\n",
       "      <td>False</td>\n",
       "      <td>2019</td>\n",
       "      <td>8</td>\n",
       "      <td>Fri</td>\n",
       "      <td>23</td>\n",
       "      <td>Aug</td>\n",
       "      <td>Fri</td>\n",
       "      <td>18</td>\n",
       "    </tr>\n",
       "  </tbody>\n",
       "</table>\n",
       "<p>2741060 rows × 18 columns</p>\n",
       "</div>"
      ],
      "text/plain": [
       "                City          County State  Temperature(F) Weather_Condition  \\\n",
       "0             Dublin        Franklin    OH            42.1        Light Rain   \n",
       "1             Dayton      Montgomery    OH            36.9        Light Rain   \n",
       "2         Cincinnati        Hamilton    OH            36.0          Overcast   \n",
       "3              Akron          Summit    OH            39.0          Overcast   \n",
       "4         Cincinnati        Hamilton    OH            37.0        Light Rain   \n",
       "...              ...             ...   ...             ...               ...   \n",
       "2845337    Riverside       Riverside    CA            86.0              Fair   \n",
       "2845338    San Diego       San Diego    CA            70.0              Fair   \n",
       "2845339       Orange          Orange    CA            73.0     Partly Cloudy   \n",
       "2845340  Culver City     Los Angeles    CA            71.0              Fair   \n",
       "2845341     Highland  San Bernardino    CA            79.0              Fair   \n",
       "\n",
       "        Start_Time             End_Time  Start_Lat   Start_Lng  \\\n",
       "0       2016-02-08  2016-02-08 06:37:08  40.108910  -83.092860   \n",
       "1       2016-02-08  2016-02-08 11:56:20  39.865420  -84.062800   \n",
       "2       2016-02-08  2016-02-08 12:15:39  39.102660  -84.524680   \n",
       "3       2016-02-08  2016-02-08 12:51:45  41.062130  -81.537840   \n",
       "4       2016-02-08  2016-02-08 13:53:43  39.172393  -84.492792   \n",
       "...            ...                  ...        ...         ...   \n",
       "2845337 2019-08-23  2019-08-23 18:32:01  34.002480 -117.379360   \n",
       "2845338 2019-08-23  2019-08-23 19:38:23  32.766960 -117.148060   \n",
       "2845339 2019-08-23  2019-08-23 19:28:49  33.775450 -117.847790   \n",
       "2845340 2019-08-23  2019-08-23 19:29:42  33.992460 -118.403020   \n",
       "2845341 2019-08-23  2019-08-23 19:21:31  34.133930 -117.230920   \n",
       "\n",
       "         Traffic_Calming  Traffic_Signal  Year  Month Day_Name  Weekday  \\\n",
       "0                  False           False  2016      2      Mon        8   \n",
       "1                  False           False  2016      2      Mon        8   \n",
       "2                  False           False  2016      2      Mon        8   \n",
       "3                  False           False  2016      2      Mon        8   \n",
       "4                  False           False  2016      2      Mon        8   \n",
       "...                  ...             ...   ...    ...      ...      ...   \n",
       "2845337            False           False  2019      8      Fri       23   \n",
       "2845338            False           False  2019      8      Fri       23   \n",
       "2845339            False           False  2019      8      Fri       23   \n",
       "2845340            False           False  2019      8      Fri       23   \n",
       "2845341            False           False  2019      8      Fri       23   \n",
       "\n",
       "        MonthName WeekdayName  Hour  \n",
       "0             Feb         Mon     0  \n",
       "1             Feb         Mon     5  \n",
       "2             Feb         Mon     6  \n",
       "3             Feb         Mon     6  \n",
       "4             Feb         Mon     7  \n",
       "...           ...         ...   ...  \n",
       "2845337       Aug         Fri    18  \n",
       "2845338       Aug         Fri    19  \n",
       "2845339       Aug         Fri    19  \n",
       "2845340       Aug         Fri    19  \n",
       "2845341       Aug         Fri    18  \n",
       "\n",
       "[2741060 rows x 18 columns]"
      ]
     },
     "execution_count": 38,
     "metadata": {},
     "output_type": "execute_result"
    }
   ],
   "source": [
    "dff"
   ]
  },
  {
   "cell_type": "code",
   "execution_count": 39,
   "id": "160b7d37",
   "metadata": {},
   "outputs": [
    {
     "data": {
      "text/plain": [
       "<AxesSubplot:xlabel='Year,Year'>"
      ]
     },
     "execution_count": 39,
     "metadata": {},
     "output_type": "execute_result"
    },
    {
     "data": {
      "image/png": "[encoded data removed]",
      "text/plain": [
       "<Figure size 432x288 with 1 Axes>"
      ]
     },
     "metadata": {
      "needs_background": "light"
     },
     "output_type": "display_data"
    }
   ],
   "source": [
    "#-->Distribution of time and accedent  Year wise\n",
    "dff.groupby('Year')['Year'].value_counts().plot(kind='line')"
   ]
  },
  {
   "cell_type": "code",
   "execution_count": 40,
   "id": "df3c7e2c",
   "metadata": {},
   "outputs": [
    {
     "data": {
      "text/plain": [
       "Index(['City', 'County', 'State', 'Temperature(F)', 'Weather_Condition',\n",
       "       'Start_Time', 'End_Time', 'Start_Lat', 'Start_Lng', 'Traffic_Calming',\n",
       "       'Traffic_Signal', 'Year', 'Month', 'Day_Name', 'Weekday', 'MonthName',\n",
       "       'WeekdayName', 'Hour'],\n",
       "      dtype='object')"
      ]
     },
     "execution_count": 40,
     "metadata": {},
     "output_type": "execute_result"
    }
   ],
   "source": [
    "dff.columns"
   ]
  },
  {
   "cell_type": "code",
   "execution_count": 41,
   "id": "be062290",
   "metadata": {},
   "outputs": [
    {
     "data": {
      "text/plain": [
       "<AxesSubplot:xlabel='Month,Month'>"
      ]
     },
     "execution_count": 41,
     "metadata": {},
     "output_type": "execute_result"
    },
    {
     "data": {
      "image/png": "[encoded data removed]",
      "text/plain": [
       "<Figure size 432x288 with 1 Axes>"
      ]
     },
     "metadata": {
      "needs_background": "light"
     },
     "output_type": "display_data"
    }
   ],
   "source": [
    "#-->Distribution of time and accedent   Month wise\n",
    "#-->What is the trend of accedent year over year (Decreasing/Increasing)\n",
    "dff.groupby('Month')['Month'].value_counts().plot(kind='line')"
   ]
  },
  {
   "cell_type": "code",
   "execution_count": 42,
   "id": "55155cb7",
   "metadata": {},
   "outputs": [],
   "source": [
    "#-->Which month have the most accident ? December"
   ]
  },
  {
   "cell_type": "code",
   "execution_count": 43,
   "id": "e2cce868",
   "metadata": {},
   "outputs": [
    {
     "data": {
      "text/plain": [
       "<AxesSubplot:xlabel='WeekdayName,WeekdayName'>"
      ]
     },
     "execution_count": 43,
     "metadata": {},
     "output_type": "execute_result"
    },
    {
     "data": {
      "image/png": "[encoded data removed]",
      "text/plain": [
       "<Figure size 432x288 with 1 Axes>"
      ]
     },
     "metadata": {
      "needs_background": "light"
     },
     "output_type": "display_data"
    }
   ],
   "source": [
    "#-->Which days of the the week have the most accedent?\n",
    "dff.groupby('WeekdayName')['WeekdayName'].value_counts().plot(kind='line')"
   ]
  },
  {
   "cell_type": "code",
   "execution_count": 44,
   "id": "be4d8906",
   "metadata": {},
   "outputs": [],
   "source": [
    "#-->Among the top 100 cities in number of accedent, which state do they belong to most frequency\n",
    "acc_state=dff.groupby(['State','City'])['City'].value_counts().nlargest(100).sort_values(ascending=False)#.plot(kind='line')"
   ]
  },
  {
   "cell_type": "code",
   "execution_count": 45,
   "id": "83289c52",
   "metadata": {},
   "outputs": [
    {
     "data": {
      "text/plain": [
       "State  City         City       \n",
       "FL     Miami        Miami          105169\n",
       "CA     Los Angeles  Los Angeles     68105\n",
       "FL     Orlando      Orlando         54052\n",
       "TX     Dallas       Dallas          41313\n",
       "       Houston      Houston         38978\n",
       "NC     Charlotte    Charlotte       32603\n",
       "CA     Sacramento   Sacramento      32345\n",
       "       San Diego    San Diego       26234\n",
       "NC     Raleigh      Raleigh         22665\n",
       "MN     Minneapolis  Minneapolis     22532\n",
       "Name: City, dtype: int64"
      ]
     },
     "execution_count": 45,
     "metadata": {},
     "output_type": "execute_result"
    }
   ],
   "source": [
    "acc_state.head(10)"
   ]
  },
  {
   "cell_type": "code",
   "execution_count": 46,
   "id": "ddf1c3ff",
   "metadata": {},
   "outputs": [
    {
     "ename": "NameError",
     "evalue": "name 'NC' is not defined",
     "output_type": "error",
     "traceback": [
      "\u001b[1;31m---------------------------------------------------------------------------\u001b[0m",
      "\u001b[1;31mNameError\u001b[0m                                 Traceback (most recent call last)",
      "\u001b[1;32m~\\AppData\\Local\\Temp/ipykernel_6668/2249381167.py\u001b[0m in \u001b[0;36m<module>\u001b[1;34m\u001b[0m\n\u001b[0;32m      1\u001b[0m \u001b[1;31m#--> Does New York show up in the data? if yes, why is the count lower\u001b[0m\u001b[1;33m\u001b[0m\u001b[1;33m\u001b[0m\u001b[0m\n\u001b[1;32m----> 2\u001b[1;33m \u001b[0mNC\u001b[0m\u001b[1;33m\u001b[0m\u001b[1;33m\u001b[0m\u001b[0m\n\u001b[0m",
      "\u001b[1;31mNameError\u001b[0m: name 'NC' is not defined"
     ]
    }
   ],
   "source": [
    "#--> Does New York show up in the data? if yes, why is the count lower\n",
    "NC"
   ]
  },
  {
   "cell_type": "code",
   "execution_count": 47,
   "id": "2c537468",
   "metadata": {},
   "outputs": [
    {
     "data": {
      "text/html": [
       "<div>\n",
       "<style scoped>\n",
       "    .dataframe tbody tr th:only-of-type {\n",
       "        vertical-align: middle;\n",
       "    }\n",
       "\n",
       "    .dataframe tbody tr th {\n",
       "        vertical-align: top;\n",
       "    }\n",
       "\n",
       "    .dataframe thead th {\n",
       "        text-align: right;\n",
       "    }\n",
       "</style>\n",
       "<table border=\"1\" class=\"dataframe\">\n",
       "  <thead>\n",
       "    <tr style=\"text-align: right;\">\n",
       "      <th></th>\n",
       "      <th>City</th>\n",
       "      <th>County</th>\n",
       "      <th>State</th>\n",
       "      <th>Temperature(F)</th>\n",
       "      <th>Weather_Condition</th>\n",
       "      <th>Start_Time</th>\n",
       "      <th>End_Time</th>\n",
       "      <th>Start_Lat</th>\n",
       "      <th>Start_Lng</th>\n",
       "      <th>Traffic_Calming</th>\n",
       "      <th>Traffic_Signal</th>\n",
       "      <th>Year</th>\n",
       "      <th>Month</th>\n",
       "      <th>Day_Name</th>\n",
       "      <th>Weekday</th>\n",
       "      <th>MonthName</th>\n",
       "      <th>WeekdayName</th>\n",
       "      <th>Hour</th>\n",
       "    </tr>\n",
       "  </thead>\n",
       "  <tbody>\n",
       "    <tr>\n",
       "      <th>0</th>\n",
       "      <td>Dublin</td>\n",
       "      <td>Franklin</td>\n",
       "      <td>OH</td>\n",
       "      <td>42.1</td>\n",
       "      <td>Light Rain</td>\n",
       "      <td>2016-02-08</td>\n",
       "      <td>2016-02-08 06:37:08</td>\n",
       "      <td>40.108910</td>\n",
       "      <td>-83.092860</td>\n",
       "      <td>False</td>\n",
       "      <td>False</td>\n",
       "      <td>2016</td>\n",
       "      <td>2</td>\n",
       "      <td>Mon</td>\n",
       "      <td>8</td>\n",
       "      <td>Feb</td>\n",
       "      <td>Mon</td>\n",
       "      <td>0</td>\n",
       "    </tr>\n",
       "    <tr>\n",
       "      <th>1</th>\n",
       "      <td>Dayton</td>\n",
       "      <td>Montgomery</td>\n",
       "      <td>OH</td>\n",
       "      <td>36.9</td>\n",
       "      <td>Light Rain</td>\n",
       "      <td>2016-02-08</td>\n",
       "      <td>2016-02-08 11:56:20</td>\n",
       "      <td>39.865420</td>\n",
       "      <td>-84.062800</td>\n",
       "      <td>False</td>\n",
       "      <td>False</td>\n",
       "      <td>2016</td>\n",
       "      <td>2</td>\n",
       "      <td>Mon</td>\n",
       "      <td>8</td>\n",
       "      <td>Feb</td>\n",
       "      <td>Mon</td>\n",
       "      <td>5</td>\n",
       "    </tr>\n",
       "    <tr>\n",
       "      <th>2</th>\n",
       "      <td>Cincinnati</td>\n",
       "      <td>Hamilton</td>\n",
       "      <td>OH</td>\n",
       "      <td>36.0</td>\n",
       "      <td>Overcast</td>\n",
       "      <td>2016-02-08</td>\n",
       "      <td>2016-02-08 12:15:39</td>\n",
       "      <td>39.102660</td>\n",
       "      <td>-84.524680</td>\n",
       "      <td>False</td>\n",
       "      <td>False</td>\n",
       "      <td>2016</td>\n",
       "      <td>2</td>\n",
       "      <td>Mon</td>\n",
       "      <td>8</td>\n",
       "      <td>Feb</td>\n",
       "      <td>Mon</td>\n",
       "      <td>6</td>\n",
       "    </tr>\n",
       "    <tr>\n",
       "      <th>3</th>\n",
       "      <td>Akron</td>\n",
       "      <td>Summit</td>\n",
       "      <td>OH</td>\n",
       "      <td>39.0</td>\n",
       "      <td>Overcast</td>\n",
       "      <td>2016-02-08</td>\n",
       "      <td>2016-02-08 12:51:45</td>\n",
       "      <td>41.062130</td>\n",
       "      <td>-81.537840</td>\n",
       "      <td>False</td>\n",
       "      <td>False</td>\n",
       "      <td>2016</td>\n",
       "      <td>2</td>\n",
       "      <td>Mon</td>\n",
       "      <td>8</td>\n",
       "      <td>Feb</td>\n",
       "      <td>Mon</td>\n",
       "      <td>6</td>\n",
       "    </tr>\n",
       "    <tr>\n",
       "      <th>4</th>\n",
       "      <td>Cincinnati</td>\n",
       "      <td>Hamilton</td>\n",
       "      <td>OH</td>\n",
       "      <td>37.0</td>\n",
       "      <td>Light Rain</td>\n",
       "      <td>2016-02-08</td>\n",
       "      <td>2016-02-08 13:53:43</td>\n",
       "      <td>39.172393</td>\n",
       "      <td>-84.492792</td>\n",
       "      <td>False</td>\n",
       "      <td>False</td>\n",
       "      <td>2016</td>\n",
       "      <td>2</td>\n",
       "      <td>Mon</td>\n",
       "      <td>8</td>\n",
       "      <td>Feb</td>\n",
       "      <td>Mon</td>\n",
       "      <td>7</td>\n",
       "    </tr>\n",
       "  </tbody>\n",
       "</table>\n",
       "</div>"
      ],
      "text/plain": [
       "         City      County State  Temperature(F) Weather_Condition Start_Time  \\\n",
       "0      Dublin    Franklin    OH            42.1        Light Rain 2016-02-08   \n",
       "1      Dayton  Montgomery    OH            36.9        Light Rain 2016-02-08   \n",
       "2  Cincinnati    Hamilton    OH            36.0          Overcast 2016-02-08   \n",
       "3       Akron      Summit    OH            39.0          Overcast 2016-02-08   \n",
       "4  Cincinnati    Hamilton    OH            37.0        Light Rain 2016-02-08   \n",
       "\n",
       "              End_Time  Start_Lat  Start_Lng  Traffic_Calming  Traffic_Signal  \\\n",
       "0  2016-02-08 06:37:08  40.108910 -83.092860            False           False   \n",
       "1  2016-02-08 11:56:20  39.865420 -84.062800            False           False   \n",
       "2  2016-02-08 12:15:39  39.102660 -84.524680            False           False   \n",
       "3  2016-02-08 12:51:45  41.062130 -81.537840            False           False   \n",
       "4  2016-02-08 13:53:43  39.172393 -84.492792            False           False   \n",
       "\n",
       "   Year  Month Day_Name  Weekday MonthName WeekdayName  Hour  \n",
       "0  2016      2      Mon        8       Feb         Mon     0  \n",
       "1  2016      2      Mon        8       Feb         Mon     5  \n",
       "2  2016      2      Mon        8       Feb         Mon     6  \n",
       "3  2016      2      Mon        8       Feb         Mon     6  \n",
       "4  2016      2      Mon        8       Feb         Mon     7  "
      ]
     },
     "execution_count": 47,
     "metadata": {},
     "output_type": "execute_result"
    }
   ],
   "source": [
    "dff.head()"
   ]
  },
  {
   "cell_type": "code",
   "execution_count": 57,
   "id": "a68c902d",
   "metadata": {},
   "outputs": [
    {
     "data": {
      "text/plain": [
       "<AxesSubplot:xlabel='Day_Name,Hour,Hour'>"
      ]
     },
     "execution_count": 57,
     "metadata": {},
     "output_type": "execute_result"
    },
    {
     "data": {
      "image/png": "[encoded data removed]",
      "text/plain": [
       "<Figure size 432x288 with 1 Axes>"
      ]
     },
     "metadata": {
      "needs_background": "light"
     },
     "output_type": "display_data"
    }
   ],
   "source": [
    "#-->Is the distribution of accedent by hour the same on weekdays as on weekend.\n",
    "dff.groupby(['Day_Name','Hour'])['Hour'].value_counts().sort_values(ascending=False).plot(kind='line')\n",
    "#Friday at 15 heighest accedent"
   ]
  },
  {
   "cell_type": "code",
   "execution_count": 62,
   "id": "f1173fdf",
   "metadata": {},
   "outputs": [
    {
     "data": {
      "text/plain": [
       "<AxesSubplot:xlabel='Temperature(F),Temperature(F)'>"
      ]
     },
     "execution_count": 62,
     "metadata": {},
     "output_type": "execute_result"
    },
    {
     "data": {
      "image/png": "[encoded data removed]",
      "text/plain": [
       "<Figure size 432x288 with 1 Axes>"
      ]
     },
     "metadata": {
      "needs_background": "light"
     },
     "output_type": "display_data"
    }
   ],
   "source": [
    "dff.groupby('Temperature(F)')['Temperature(F)'].value_counts().sort_values(ascending=False).plot(kind='line')\n",
    "#Temperature decrese accendent decrease."
   ]
  },
  {
   "cell_type": "code",
   "execution_count": null,
   "id": "82de6d34",
   "metadata": {},
   "outputs": [],
   "source": []
  },
  {
   "cell_type": "code",
   "execution_count": null,
   "id": "4e5784dc",
   "metadata": {},
   "outputs": [],
   "source": []
  },
  {
   "cell_type": "code",
   "execution_count": null,
   "id": "ea5e2967",
   "metadata": {},
   "outputs": [],
   "source": []
  },
  {
   "cell_type": "code",
   "execution_count": null,
   "id": "662c6396",
   "metadata": {},
   "outputs": [],
   "source": []
  }
 ],
 "metadata": {
  "kernelspec": {
   "display_name": "Python 3 (ipykernel)",
   "language": "python",
   "name": "python3"
  },
  "language_info": {
   "codemirror_mode": {
    "name": "ipython",
    "version": 3
   },
   "file_extension": ".py",
   "mimetype": "text/x-python",
   "name": "python",
   "nbconvert_exporter": "python",
   "pygments_lexer": "ipython3",
   "version": "3.9.7"
  }
 },
 "nbformat": 4,
 "nbformat_minor": 5
}
